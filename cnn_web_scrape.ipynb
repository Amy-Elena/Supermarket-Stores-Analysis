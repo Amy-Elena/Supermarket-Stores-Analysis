{
  "nbformat": 4,
  "nbformat_minor": 0,
  "metadata": {
    "colab": {
      "provenance": [],
      "mount_file_id": "11S1SesuoVSnPs45rWzBzNdidDr820vVG",
      "authorship_tag": "ABX9TyPhGYH09KKXVEhMgWWZlUvT",
      "include_colab_link": true
    },
    "kernelspec": {
      "name": "python3",
      "display_name": "Python 3"
    },
    "language_info": {
      "name": "python"
    }
  },
  "cells": [
    {
      "cell_type": "markdown",
      "metadata": {
        "id": "view-in-github",
        "colab_type": "text"
      },
      "source": [
        "<a href=\"https://colab.research.google.com/github/Amy-Elena/Supermarket-Stores-Analysis-Python/blob/main/cnn_web_scrape.ipynb\" target=\"_parent\"><img src=\"https://colab.research.google.com/assets/colab-badge.svg\" alt=\"Open In Colab\"/></a>"
      ]
    },
    {
      "cell_type": "code",
      "source": [
        "# import library\n",
        "from bs4 import BeautifulSoup\n",
        "import requests\n",
        "import json"
      ],
      "metadata": {
        "id": "CUPpCDD9qzNH"
      },
      "execution_count": 23,
      "outputs": []
    },
    {
      "cell_type": "code",
      "source": [
        "# URL of the news website\n",
        "url = 'https://edition.cnn.com/europe/live-news/russia-ukraine-war-news-06-26-23/index.html'"
      ],
      "metadata": {
        "id": "rKO05dBy-JA3"
      },
      "execution_count": 24,
      "outputs": []
    },
    {
      "cell_type": "code",
      "source": [
        "# Send an HTTP GET request\n",
        "response = requests.get(url)"
      ],
      "metadata": {
        "id": "nDcK2wBD-JRu"
      },
      "execution_count": 25,
      "outputs": []
    },
    {
      "cell_type": "code",
      "source": [
        "# Parse the HTML content with BeautifulSoup\n",
        "response = BeautifulSoup(response.content, \"html.parser\")\n",
        "\n",
        "# print(response)"
      ],
      "metadata": {
        "id": "hVJ2XfHV8XNt"
      },
      "execution_count": null,
      "outputs": []
    },
    {
      "cell_type": "code",
      "source": [
        "# print(response.prettify())  # This prints the parsed HTML for debugging purposes (more readable format)"
      ],
      "metadata": {
        "id": "tGxyPctydZhf"
      },
      "execution_count": null,
      "outputs": []
    },
    {
      "cell_type": "markdown",
      "source": [
        "From above HTML output, it seems that the data extracted is stored in a structured **JSON-LD format**.  \n",
        "**JSON-LD** is a way to encode Linked Data using JSON. In this case, each article's information is enclosed in a JSON object within a script tag.  \n",
        "To scrape this data, you need to locate these script tags and then extract the JSON data from them."
      ],
      "metadata": {
        "id": "r6Nog_WqzOsm"
      }
    },
    {
      "cell_type": "markdown",
      "source": [
        "---"
      ],
      "metadata": {
        "id": "YYwccp6d_a60"
      }
    },
    {
      "cell_type": "code",
      "source": [
        "# Find all 'script tags' with type=\"application/ld+json\"\n",
        "\n",
        "script_tags = response.find_all(\"script\", type=\"application/ld+json\")\n",
        "\n",
        "print(\"Number of script tags found:\", len(script_tags))"
      ],
      "metadata": {
        "id": "vV9xjQER-Xm-",
        "colab": {
          "base_uri": "https://localhost:8080/"
        },
        "outputId": "ff328e90-7a00-49b0-a6e4-038b430b6fa2"
      },
      "execution_count": 28,
      "outputs": [
        {
          "output_type": "stream",
          "name": "stdout",
          "text": [
            "Number of script tags found: 3\n"
          ]
        }
      ]
    },
    {
      "cell_type": "markdown",
      "source": [
        "**Inspect the JSON-LD Data:** Manually inspect the contents of the script_tags list to see if the JSON-LD data is being correctly extracted. You can add a print statement to check:"
      ],
      "metadata": {
        "id": "5rBXY79l00dD"
      }
    },
    {
      "cell_type": "code",
      "source": [
        "for script_tag in script_tags:\n",
        "    print(script_tag.string)"
      ],
      "metadata": {
        "id": "kultIW3MsEW7"
      },
      "execution_count": null,
      "outputs": []
    },
    {
      "cell_type": "markdown",
      "source": [
        "**Print JSON Data:** If the JSON data extraction is successful, print the extracted json_data for each article within the loop:"
      ],
      "metadata": {
        "id": "GNJ37uPU1wDd"
      }
    },
    {
      "cell_type": "code",
      "source": [
        "'''\n",
        "for script_tag in script_tags:\n",
        "    try:\n",
        "        json_data = json.loads(script_tag.string)\n",
        "        print(json_data)  # Print the extracted JSON data\n",
        "        # Rest of the extraction code\n",
        "    except json.JSONDecodeError as e:\n",
        "        print(\"Error decoding JSON:\", e)\n",
        "'''"
      ],
      "metadata": {
        "id": "UE-i0kkiseHT"
      },
      "execution_count": null,
      "outputs": []
    },
    {
      "cell_type": "code",
      "source": [
        "# Process and save JSON-LD data into a text file\n",
        "with open(\"json_ld_data.txt\", \"w\") as file:\n",
        "    for script_tag in script_tags:\n",
        "        try:\n",
        "            json_data = json.loads(script_tag.string)\n",
        "            json_str = json.dumps(json_data, indent=4)  # Pretty-print JSON\n",
        "            file.write(json_str + \"\\n\")  # Write JSON data to the file\n",
        "        except json.JSONDecodeError as e:\n",
        "            print(\"Error decoding JSON:\", e)\n",
        "\n",
        "print(\"JSON-LD data saved to json_ld_data.txt\")"
      ],
      "metadata": {
        "colab": {
          "base_uri": "https://localhost:8080/"
        },
        "id": "RXPQJB-6t3HM",
        "outputId": "de0349a8-45e1-44e6-8aa6-f4aaf6161c79"
      },
      "execution_count": 31,
      "outputs": [
        {
          "output_type": "stream",
          "name": "stdout",
          "text": [
            "JSON-LD data saved to json_ld_data.txt\n"
          ]
        }
      ]
    },
    {
      "cell_type": "markdown",
      "source": [
        "---"
      ],
      "metadata": {
        "id": "QP4lq37s-Vib"
      }
    },
    {
      "cell_type": "markdown",
      "source": [
        "To **save the JSON data** from your text file into a **proper JSON file**, you can follow these steps:"
      ],
      "metadata": {
        "id": "yvqU3Ti18I5-"
      }
    },
    {
      "cell_type": "code",
      "source": [
        "# Note: I had to manually edit the txt file, used a json parser to find the errors\n",
        "\n",
        "# Read the content of the text file\n",
        "with open('/content/drive/MyDrive/Colab Notebooks/My Colab Projects/json_ld_edited.txt', 'r') as file:\n",
        "    text_content = file.read()\n",
        "\n",
        "# Parse the JSON data from the text content\n",
        "json_data = json.loads(text_content)\n",
        "\n",
        "# Write the JSON data to a new JSON file\n",
        "with open('json_ld_data.json', 'w') as output_file:\n",
        "    json.dump(json_data, output_file, indent=4)  # 'indent' parameter adds formatting for better readability\n"
      ],
      "metadata": {
        "id": "-fbDYmdbKeCK"
      },
      "execution_count": 34,
      "outputs": []
    },
    {
      "cell_type": "markdown",
      "source": [
        "The JSON file you have is not automatically loaded as a Python dictionary. Instead, it's currently just a textual representation of JSON data.  \n",
        "**To work with the data in Python as a dictionary**, you need to load it using the json.load() function, which will convert the JSON data into a Python dictionary."
      ],
      "metadata": {
        "id": "cbNyRkl99lAb"
      }
    },
    {
      "cell_type": "code",
      "source": [
        "''' Note: 'output_json.json' renamed 'cnn_data.json' and stored in my google drive.\n",
        "can't call it directly here, have to add path'''\n",
        "\n",
        "# Load the JSON data from the file\n",
        "with open('/content/drive/MyDrive/Colab Notebooks/My Colab Projects/json_ld_data.json', 'r') as json_file:\n",
        "    json_data = json.load(json_file)\n",
        "\n",
        "# Now 'json_data' is a Python dictionary\n",
        "# You can access and analyze its contents like any other dictionary"
      ],
      "metadata": {
        "id": "W_6H6xykP5EX"
      },
      "execution_count": 36,
      "outputs": []
    },
    {
      "cell_type": "markdown",
      "source": [
        "---\n",
        "**Some Analysis on the scraped data**"
      ],
      "metadata": {
        "id": "CeHcTjc_98_O"
      }
    },
    {
      "cell_type": "code",
      "source": [
        "# Count the number of entries (articles) in your JSON data:\n",
        "num_entries = len(json_data)\n",
        "print(f\"Number of entries: {num_entries}\")"
      ],
      "metadata": {
        "colab": {
          "base_uri": "https://localhost:8080/"
        },
        "id": "IYXSObx-90Y0",
        "outputId": "8e60fd78-c432-46b4-e4a1-a0d23666a897"
      },
      "execution_count": 37,
      "outputs": [
        {
          "output_type": "stream",
          "name": "stdout",
          "text": [
            "Number of entries: 16\n"
          ]
        }
      ]
    },
    {
      "cell_type": "markdown",
      "source": [
        "It seems that the data is **nested within various levels of dictionaries** and lists. To access the data for e.g headlines, you need to navigate through these levels.  \n",
        "Remember that if there are multiple articles in your JSON data, you should loop through the articles to access their headlines in a similar manner.  \n",
        "Here's how you can do it:"
      ],
      "metadata": {
        "id": "hEl281BCxwPb"
      }
    },
    {
      "cell_type": "code",
      "source": [
        "# Accessing the main article's headline\n",
        "main_headline = json_data['headline']\n",
        "print(\"Main Headline:\", main_headline)"
      ],
      "metadata": {
        "colab": {
          "base_uri": "https://localhost:8080/"
        },
        "id": "9jdez5htwsY2",
        "outputId": "f2b9721b-0216-4f8b-a754-44f520db83f1"
      },
      "execution_count": 38,
      "outputs": [
        {
          "output_type": "stream",
          "name": "stdout",
          "text": [
            "Main Headline: June 26, 2023 - Russia-Ukraine, Wagner rebellion news\n"
          ]
        }
      ]
    },
    {
      "cell_type": "code",
      "source": [
        "# Accessing the headlines of live blog updates\n",
        "live_blog_updates = json_data['liveBlogUpdate']\n",
        "for update in live_blog_updates:\n",
        "    update_headline = update['headline']\n",
        "    print(\"Update Headline:\", update_headline)"
      ],
      "metadata": {
        "id": "nQucFyFM77P9",
        "colab": {
          "base_uri": "https://localhost:8080/"
        },
        "outputId": "c95132ba-d5e3-4e69-e09e-d360fc632169"
      },
      "execution_count": 54,
      "outputs": [
        {
          "output_type": "stream",
          "name": "stdout",
          "text": [
            "Update Headline: What we covered here\n",
            "Update Headline: None\n",
            "Update Headline: China's foreign minister touts Beijing and Moscow as a force for \"global peace\"\n",
            "Update Headline: Putin addresses insurrection and Prigozhin's whereabouts are unknown. Here's what you need to know\n",
            "Update Headline: Ukrainian fighters have advanced in all directions of frontline, Zelensky says\n",
            "Update Headline: During Wagner rebellion, allies reached out to Ukraine advising not to strike inside Russia\n",
            "Update Headline: Wagner uprising \"was almost hiding in plain sight,\" US Sen. Mark Warner says\n",
            "Update Headline: US gathered detailed intelligence on Wagner chief's rebellion plans but kept it secret, sources say\n",
            "Update Headline: Analysis: Here's how Ukraine will seek to take advantage following rebellion in Russia\n",
            "Update Headline: Putin speaks to Emirati counterpart about Wagner rebellion, the Kremlin says\n",
            "Update Headline: Putin is holding meeting with top security officials, including defense minister, Kremlin says\n",
            "Update Headline: Putin says Wagner fighters can sign up with defense ministry, return to families or move to Belarus\n",
            "Update Headline: \"Armed rebellion would have been suppressed anyway,\" Putin says\n",
            "Update Headline: US reached out to oil producers at home and abroad as chaos engulfed Russia, official says\n",
            "Update Headline: Russia continues to focus \"main efforts\" on cities in eastern Donetsk region, Ukraine says\n",
            "Update Headline: Russia's State Duma claims defense forces exercised total control during Wagner rebellion, state media reports\n",
            "Update Headline: Putin will deliver \"important statements\" soon, Kremlin says\n",
            "Update Headline: Belarusian President Alexander Lukashenko will answer questions from journalists Tuesday, state media says\n",
            "Update Headline: US State Department is not commenting on Prigozhin's motivations and has no assessment about his location\n",
            "Update Headline: Russia's main motivation in war is to keep the land it has already seized, Ukraine official says\n",
            "Update Headline: US expected to announce another $500 million military aid package for Ukraine, official says\n",
            "Update Headline: Long-range missiles have had \"significant impact on the battlefield,\" UK defense secretary says\n",
            "Update Headline: It's nighttime in Kyiv. Here's the latest on the Wagner rebellion and other key developments in the war\n",
            "Update Headline: Prigozhin's rebellion represents an unprecedented challenge to Putin, British foreign minister says\n",
            "Update Headline: Zelensky visits troops in Ukraine's eastern Donetsk region\n",
            "Update Headline: \"It's still too early to reach a definitive conclusion,\" Biden says on the situation in Russia\n",
            "Update Headline: Biden: US and Western allies \"had nothing to do\" with Russian rebellion\n",
            "Update Headline: Prigozhin claims Russian defense ministry wanted Wagner to \"cease to exist\" starting on July 1\n",
            "Update Headline: Prigozhin says march toward Moscow was a demonstration of protest and not intended to overturn power\n",
            "Update Headline: US diplomats were busy sending messages to Russian officials over the weekend\n",
            "Update Headline: US was not involved in rebellion in Russia, White House says\n",
            "Update Headline: Wagner recruitment centers resume work in Russian cities of Tyumen and Novosibirsk, state media reports\n",
            "Update Headline: Analysis: The insurrection was stymied, but Russia is a changed place\n",
            "Update Headline: Russia is investigating whether Western intelligence was involved in rebellion, foreign minister says\n",
            "Update Headline: It’s mid-afternoon in Kyiv. Here’s what you need to know\n",
            "Update Headline: Wagner developments show \"weakness\" of Russian regime, NATO chief says\n",
            "Update Headline: Ukraine claims to have liberated the southeastern settlement of Rivnopil in Donetsk\n",
            "Update Headline: Putin talked to leaders of a few countries after the Wagner insurrection, including Iran\n",
            "Update Headline: UK is prepared for a \"range of scenarios\" in Russia after insurrection, prime minister says\n",
            "Update Headline: Russian President Putin holds a phone call with the Emir of Qatar Sheikh Tamim\n",
            "Update Headline: Some Russians cheered as Wagner mercenaries sped through their streets towards Moscow\n",
            "Update Headline: Russia faced \"challenge\" to internal stability, says Russian prime minister\n",
            "Update Headline: EU agrees to $3.8 billion top up of Ukraine military aid fund\n",
            "Update Headline: Analysis: Has the chaos in Russia changed the Western approach to Ukraine?\n",
            "Update Headline: Ukrainian army enjoyed \"tactical success\" in heavy fighting over the last week, says deputy defense minister\n",
            "Update Headline: Russia's war on Ukraine having “devastating consequences” on leadership, says German foreign minister\n",
            "Update Headline: Prigozhin remains under investigation for inciting armed rebellion, says source at Russia’s Prosecutor General’s Office\n",
            "Update Headline: Attempted insurrection demonstrates Putin made “big strategic mistake,” says NATO chief\n",
            "Update Headline: Wagner insurrection shows military power in Russia is “cracking,” says EU’s foreign policy chief\n",
            "Update Headline: Serbian president praises Putin after attempted insurrection\n",
            "Update Headline: \"People don't want Prigozhin in Belarus,\" says adviser to exiled Belarusian opposition leader\n",
            "Update Headline: 1 killed, pregnant woman among 7 injured in Kherson shelling, Ukrainian military says\n",
            "Update Headline: Ukraine says it shot down 13 Russian missiles and drones overnight\n",
            "Update Headline: Moscow ends security restrictions, mayor says\n",
            "Update Headline: Analysis: Western allies must reexamine balancing act to save Ukraine after Putin's humiliation\n",
            "Update Headline: \"Who's to say what happens next weekend?\" Analyst says mutiny raises risk of Russian factional conflict\n",
            "Update Headline: Russia says defense minister visited troops involved in Ukraine conflict\n",
            "Update Headline: Oil price gains evaporate after short-lived Wagner insurrection\n",
            "Update Headline: Analysis: Belarus leader's purported mediation stretches credibility to the limit\n",
            "Update Headline: Australian High Court rules against Russia's legal challenge to keep embassy site\n",
            "Update Headline: Prigozhin's status is uncertain as Russia aims to regulate his Wagner Group. Here's the latest\n",
            "Update Headline: Beijing throws support behind \"strategic partner\" Moscow after Wagner insurrection\n",
            "Update Headline: Zelensky discusses rebellion in Russia with world leaders\n",
            "Update Headline: Video shows crash site of Russian military plane reportedly shot down by Wagner forces\n",
            "Update Headline: Ukraine claims gains around Bakhmut, says nearly 200 Russian troops killed within the past day\n",
            "Update Headline: Analysis: The bizarre and chaotic 36 hours that showed Putin at his weakest in 23 years\n"
          ]
        }
      ]
    },
    {
      "cell_type": "code",
      "source": [
        "# Extract main article details\n",
        "main_article = json_data\n",
        "main_headline = main_article['headline']\n",
        "main_description = main_article['description']\n",
        "main_date_published = main_article['datePublished']\n",
        "main_author = main_article['author']['name']\n",
        "\n",
        "print(\"Main Article Headline:\", main_headline)\n",
        "print(\"Main Article Description:\", main_description)\n",
        "print(\"Main Article Date Published:\", main_date_published)\n",
        "print(\"Main Article Author:\", main_author)"
      ],
      "metadata": {
        "colab": {
          "base_uri": "https://localhost:8080/"
        },
        "id": "5COly_QRGOFU",
        "outputId": "156485cf-fa9f-4b14-8195-5785d7fe1e0b"
      },
      "execution_count": 40,
      "outputs": [
        {
          "output_type": "stream",
          "name": "stdout",
          "text": [
            "Main Article Headline: June 26, 2023 - Russia-Ukraine, Wagner rebellion news\n",
            "Main Article Description: Russian President Vladimir Putin said Monday night that \"the armed rebellion would have been suppressed anyway,\" referring to the insurrection launched by the Wagner Group over the weekend.\n",
            "Main Article Date Published: 2023-06-26T04:00:26Z\n",
            "Main Article Author: Kathleen Magramo, Christian Edwards, Aditi Sangal, Mike Hayes, Maureen Chowdhury and Amir Vera, CNN\n"
          ]
        }
      ]
    },
    {
      "cell_type": "code",
      "source": [
        "# Extract live blog update details\n",
        "live_blog_updates = main_article['liveBlogUpdate']\n",
        "for update in live_blog_updates:\n",
        "    update_headline = update['headline']\n",
        "    update_date_published = update['datePublished']\n",
        "    update_author = update['author']['name']\n",
        "    print(\"\\nUpdate Headline:\", update_headline)\n",
        "    print(\"Update Date Published:\", update_date_published)\n",
        "    print(\"Update Author:\", update_author)"
      ],
      "metadata": {
        "id": "LnQ0W0gkHZ89",
        "colab": {
          "base_uri": "https://localhost:8080/"
        },
        "outputId": "a5956b8d-13c5-46e8-c037-dc71f31ad16c"
      },
      "execution_count": 55,
      "outputs": [
        {
          "output_type": "stream",
          "name": "stdout",
          "text": [
            "\n",
            "Update Headline: What we covered here\n",
            "Update Date Published: 2023-06-26T01:47:43.693Z\n",
            "Update Author: Kathleen Magramo, Christian Edwards, Aditi Sangal, Mike Hayes, Maureen Chowdhury and Amir Vera, CNN\n",
            "\n",
            "Update Headline: None\n",
            "Update Date Published: 2023-06-27T04:00:15.479Z\n",
            "Update Author: Kathleen Magramo, Christian Edwards, Aditi Sangal, Mike Hayes, Maureen Chowdhury and Amir Vera, CNN\n",
            "\n",
            "Update Headline: China's foreign minister touts Beijing and Moscow as a force for \"global peace\"\n",
            "Update Date Published: 2023-06-27T03:50:30.920Z\n",
            "Update Author: Kathleen Magramo, Christian Edwards, Aditi Sangal, Mike Hayes, Maureen Chowdhury and Amir Vera, CNN\n",
            "\n",
            "Update Headline: Putin addresses insurrection and Prigozhin's whereabouts are unknown. Here's what you need to know\n",
            "Update Date Published: 2023-06-26T22:03:43.281Z\n",
            "Update Author: Kathleen Magramo, Christian Edwards, Aditi Sangal, Mike Hayes, Maureen Chowdhury and Amir Vera, CNN\n",
            "\n",
            "Update Headline: Ukrainian fighters have advanced in all directions of frontline, Zelensky says\n",
            "Update Date Published: 2023-06-26T23:08:04.595Z\n",
            "Update Author: Kathleen Magramo, Christian Edwards, Aditi Sangal, Mike Hayes, Maureen Chowdhury and Amir Vera, CNN\n",
            "\n",
            "Update Headline: During Wagner rebellion, allies reached out to Ukraine advising not to strike inside Russia\n",
            "Update Date Published: 2023-06-26T22:40:13.314Z\n",
            "Update Author: Kathleen Magramo, Christian Edwards, Aditi Sangal, Mike Hayes, Maureen Chowdhury and Amir Vera, CNN\n",
            "\n",
            "Update Headline: Wagner uprising \"was almost hiding in plain sight,\" US Sen. Mark Warner says\n",
            "Update Date Published: 2023-06-26T22:24:30.618Z\n",
            "Update Author: Kathleen Magramo, Christian Edwards, Aditi Sangal, Mike Hayes, Maureen Chowdhury and Amir Vera, CNN\n",
            "\n",
            "Update Headline: US gathered detailed intelligence on Wagner chief's rebellion plans but kept it secret, sources say\n",
            "Update Date Published: 2023-06-26T22:16:43.940Z\n",
            "Update Author: Kathleen Magramo, Christian Edwards, Aditi Sangal, Mike Hayes, Maureen Chowdhury and Amir Vera, CNN\n",
            "\n",
            "Update Headline: Analysis: Here's how Ukraine will seek to take advantage following rebellion in Russia\n",
            "Update Date Published: 2023-06-26T22:12:51.883Z\n",
            "Update Author: Kathleen Magramo, Christian Edwards, Aditi Sangal, Mike Hayes, Maureen Chowdhury and Amir Vera, CNN\n",
            "\n",
            "Update Headline: Putin speaks to Emirati counterpart about Wagner rebellion, the Kremlin says\n",
            "Update Date Published: 2023-06-26T20:56:30.643Z\n",
            "Update Author: Kathleen Magramo, Christian Edwards, Aditi Sangal, Mike Hayes, Maureen Chowdhury and Amir Vera, CNN\n",
            "\n",
            "Update Headline: Putin is holding meeting with top security officials, including defense minister, Kremlin says\n",
            "Update Date Published: 2023-06-26T20:02:14.972Z\n",
            "Update Author: Kathleen Magramo, Christian Edwards, Aditi Sangal, Mike Hayes, Maureen Chowdhury and Amir Vera, CNN\n",
            "\n",
            "Update Headline: Putin says Wagner fighters can sign up with defense ministry, return to families or move to Belarus\n",
            "Update Date Published: 2023-06-26T19:38:07.904Z\n",
            "Update Author: Kathleen Magramo, Christian Edwards, Aditi Sangal, Mike Hayes, Maureen Chowdhury and Amir Vera, CNN\n",
            "\n",
            "Update Headline: \"Armed rebellion would have been suppressed anyway,\" Putin says\n",
            "Update Date Published: 2023-06-26T19:22:09.975Z\n",
            "Update Author: Kathleen Magramo, Christian Edwards, Aditi Sangal, Mike Hayes, Maureen Chowdhury and Amir Vera, CNN\n",
            "\n",
            "Update Headline: US reached out to oil producers at home and abroad as chaos engulfed Russia, official says\n",
            "Update Date Published: 2023-06-26T19:52:52.729Z\n",
            "Update Author: Kathleen Magramo, Christian Edwards, Aditi Sangal, Mike Hayes, Maureen Chowdhury and Amir Vera, CNN\n",
            "\n",
            "Update Headline: Russia continues to focus \"main efforts\" on cities in eastern Donetsk region, Ukraine says\n",
            "Update Date Published: 2023-06-26T19:04:38.445Z\n",
            "Update Author: Kathleen Magramo, Christian Edwards, Aditi Sangal, Mike Hayes, Maureen Chowdhury and Amir Vera, CNN\n",
            "\n",
            "Update Headline: Russia's State Duma claims defense forces exercised total control during Wagner rebellion, state media reports\n",
            "Update Date Published: 2023-06-26T18:58:42.339Z\n",
            "Update Author: Kathleen Magramo, Christian Edwards, Aditi Sangal, Mike Hayes, Maureen Chowdhury and Amir Vera, CNN\n",
            "\n",
            "Update Headline: Putin will deliver \"important statements\" soon, Kremlin says\n",
            "Update Date Published: 2023-06-26T18:32:59.704Z\n",
            "Update Author: Kathleen Magramo, Christian Edwards, Aditi Sangal, Mike Hayes, Maureen Chowdhury and Amir Vera, CNN\n",
            "\n",
            "Update Headline: Belarusian President Alexander Lukashenko will answer questions from journalists Tuesday, state media says\n",
            "Update Date Published: 2023-06-26T18:25:09.611Z\n",
            "Update Author: Kathleen Magramo, Christian Edwards, Aditi Sangal, Mike Hayes, Maureen Chowdhury and Amir Vera, CNN\n",
            "\n",
            "Update Headline: US State Department is not commenting on Prigozhin's motivations and has no assessment about his location\n",
            "Update Date Published: 2023-06-26T18:29:28.404Z\n",
            "Update Author: Kathleen Magramo, Christian Edwards, Aditi Sangal, Mike Hayes, Maureen Chowdhury and Amir Vera, CNN\n",
            "\n",
            "Update Headline: Russia's main motivation in war is to keep the land it has already seized, Ukraine official says\n",
            "Update Date Published: 2023-06-26T18:19:26.814Z\n",
            "Update Author: Kathleen Magramo, Christian Edwards, Aditi Sangal, Mike Hayes, Maureen Chowdhury and Amir Vera, CNN\n",
            "\n",
            "Update Headline: US expected to announce another $500 million military aid package for Ukraine, official says\n",
            "Update Date Published: 2023-06-26T17:04:00.206Z\n",
            "Update Author: Kathleen Magramo, Christian Edwards, Aditi Sangal, Mike Hayes, Maureen Chowdhury and Amir Vera, CNN\n",
            "\n",
            "Update Headline: Long-range missiles have had \"significant impact on the battlefield,\" UK defense secretary says\n",
            "Update Date Published: 2023-06-26T16:59:38.635Z\n",
            "Update Author: Kathleen Magramo, Christian Edwards, Aditi Sangal, Mike Hayes, Maureen Chowdhury and Amir Vera, CNN\n",
            "\n",
            "Update Headline: It's nighttime in Kyiv. Here's the latest on the Wagner rebellion and other key developments in the war\n",
            "Update Date Published: 2023-06-26T17:11:45.545Z\n",
            "Update Author: Kathleen Magramo, Christian Edwards, Aditi Sangal, Mike Hayes, Maureen Chowdhury and Amir Vera, CNN\n",
            "\n",
            "Update Headline: Prigozhin's rebellion represents an unprecedented challenge to Putin, British foreign minister says\n",
            "Update Date Published: 2023-06-26T16:44:30.509Z\n",
            "Update Author: Kathleen Magramo, Christian Edwards, Aditi Sangal, Mike Hayes, Maureen Chowdhury and Amir Vera, CNN\n",
            "\n",
            "Update Headline: Zelensky visits troops in Ukraine's eastern Donetsk region\n",
            "Update Date Published: 2023-06-26T16:40:18.888Z\n",
            "Update Author: Kathleen Magramo, Christian Edwards, Aditi Sangal, Mike Hayes, Maureen Chowdhury and Amir Vera, CNN\n",
            "\n",
            "Update Headline: \"It's still too early to reach a definitive conclusion,\" Biden says on the situation in Russia\n",
            "Update Date Published: 2023-06-26T16:29:54.221Z\n",
            "Update Author: Kathleen Magramo, Christian Edwards, Aditi Sangal, Mike Hayes, Maureen Chowdhury and Amir Vera, CNN\n",
            "\n",
            "Update Headline: Biden: US and Western allies \"had nothing to do\" with Russian rebellion\n",
            "Update Date Published: 2023-06-26T16:20:26.245Z\n",
            "Update Author: Kathleen Magramo, Christian Edwards, Aditi Sangal, Mike Hayes, Maureen Chowdhury and Amir Vera, CNN\n",
            "\n",
            "Update Headline: Prigozhin claims Russian defense ministry wanted Wagner to \"cease to exist\" starting on July 1\n",
            "Update Date Published: 2023-06-26T15:40:51.207Z\n",
            "Update Author: Kathleen Magramo, Christian Edwards, Aditi Sangal, Mike Hayes, Maureen Chowdhury and Amir Vera, CNN\n",
            "\n",
            "Update Headline: Prigozhin says march toward Moscow was a demonstration of protest and not intended to overturn power\n",
            "Update Date Published: 2023-06-26T15:06:10.430Z\n",
            "Update Author: Kathleen Magramo, Christian Edwards, Aditi Sangal, Mike Hayes, Maureen Chowdhury and Amir Vera, CNN\n",
            "\n",
            "Update Headline: US diplomats were busy sending messages to Russian officials over the weekend\n",
            "Update Date Published: 2023-06-26T15:40:09.557Z\n",
            "Update Author: Kathleen Magramo, Christian Edwards, Aditi Sangal, Mike Hayes, Maureen Chowdhury and Amir Vera, CNN\n",
            "\n",
            "Update Headline: US was not involved in rebellion in Russia, White House says\n",
            "Update Date Published: 2023-06-26T15:20:25.297Z\n",
            "Update Author: Kathleen Magramo, Christian Edwards, Aditi Sangal, Mike Hayes, Maureen Chowdhury and Amir Vera, CNN\n",
            "\n",
            "Update Headline: Wagner recruitment centers resume work in Russian cities of Tyumen and Novosibirsk, state media reports\n",
            "Update Date Published: 2023-06-26T14:32:17.075Z\n",
            "Update Author: Kathleen Magramo, Christian Edwards, Aditi Sangal, Mike Hayes, Maureen Chowdhury and Amir Vera, CNN\n",
            "\n",
            "Update Headline: Analysis: The insurrection was stymied, but Russia is a changed place\n",
            "Update Date Published: 2023-06-26T10:06:56.459Z\n",
            "Update Author: Kathleen Magramo, Christian Edwards, Aditi Sangal, Mike Hayes, Maureen Chowdhury and Amir Vera, CNN\n",
            "\n",
            "Update Headline: Russia is investigating whether Western intelligence was involved in rebellion, foreign minister says\n",
            "Update Date Published: 2023-06-26T13:09:02.919Z\n",
            "Update Author: Kathleen Magramo, Christian Edwards, Aditi Sangal, Mike Hayes, Maureen Chowdhury and Amir Vera, CNN\n",
            "\n",
            "Update Headline: It’s mid-afternoon in Kyiv. Here’s what you need to know\n",
            "Update Date Published: 2023-06-26T12:57:01.459Z\n",
            "Update Author: Kathleen Magramo, Christian Edwards, Aditi Sangal, Mike Hayes, Maureen Chowdhury and Amir Vera, CNN\n",
            "\n",
            "Update Headline: Wagner developments show \"weakness\" of Russian regime, NATO chief says\n",
            "Update Date Published: 2023-06-26T13:09:08.165Z\n",
            "Update Author: Kathleen Magramo, Christian Edwards, Aditi Sangal, Mike Hayes, Maureen Chowdhury and Amir Vera, CNN\n",
            "\n",
            "Update Headline: Ukraine claims to have liberated the southeastern settlement of Rivnopil in Donetsk\n",
            "Update Date Published: 2023-06-26T12:47:43.814Z\n",
            "Update Author: Kathleen Magramo, Christian Edwards, Aditi Sangal, Mike Hayes, Maureen Chowdhury and Amir Vera, CNN\n",
            "\n",
            "Update Headline: Putin talked to leaders of a few countries after the Wagner insurrection, including Iran\n",
            "Update Date Published: 2023-06-26T12:04:08.363Z\n",
            "Update Author: Kathleen Magramo, Christian Edwards, Aditi Sangal, Mike Hayes, Maureen Chowdhury and Amir Vera, CNN\n",
            "\n",
            "Update Headline: UK is prepared for a \"range of scenarios\" in Russia after insurrection, prime minister says\n",
            "Update Date Published: 2023-06-26T11:53:54.926Z\n",
            "Update Author: Kathleen Magramo, Christian Edwards, Aditi Sangal, Mike Hayes, Maureen Chowdhury and Amir Vera, CNN\n",
            "\n",
            "Update Headline: Russian President Putin holds a phone call with the Emir of Qatar Sheikh Tamim\n",
            "Update Date Published: 2023-06-26T11:35:23.410Z\n",
            "Update Author: Kathleen Magramo, Christian Edwards, Aditi Sangal, Mike Hayes, Maureen Chowdhury and Amir Vera, CNN\n",
            "\n",
            "Update Headline: Some Russians cheered as Wagner mercenaries sped through their streets towards Moscow\n",
            "Update Date Published: 2023-06-26T11:13:29.978Z\n",
            "Update Author: Kathleen Magramo, Christian Edwards, Aditi Sangal, Mike Hayes, Maureen Chowdhury and Amir Vera, CNN\n",
            "\n",
            "Update Headline: Russia faced \"challenge\" to internal stability, says Russian prime minister\n",
            "Update Date Published: 2023-06-26T11:05:24.301Z\n",
            "Update Author: Kathleen Magramo, Christian Edwards, Aditi Sangal, Mike Hayes, Maureen Chowdhury and Amir Vera, CNN\n",
            "\n",
            "Update Headline: EU agrees to $3.8 billion top up of Ukraine military aid fund\n",
            "Update Date Published: 2023-06-26T10:59:18.739Z\n",
            "Update Author: Kathleen Magramo, Christian Edwards, Aditi Sangal, Mike Hayes, Maureen Chowdhury and Amir Vera, CNN\n",
            "\n",
            "Update Headline: Analysis: Has the chaos in Russia changed the Western approach to Ukraine?\n",
            "Update Date Published: 2023-06-26T10:34:41.822Z\n",
            "Update Author: Kathleen Magramo, Christian Edwards, Aditi Sangal, Mike Hayes, Maureen Chowdhury and Amir Vera, CNN\n",
            "\n",
            "Update Headline: Ukrainian army enjoyed \"tactical success\" in heavy fighting over the last week, says deputy defense minister\n",
            "Update Date Published: 2023-06-26T10:22:56.958Z\n",
            "Update Author: Kathleen Magramo, Christian Edwards, Aditi Sangal, Mike Hayes, Maureen Chowdhury and Amir Vera, CNN\n",
            "\n",
            "Update Headline: Russia's war on Ukraine having “devastating consequences” on leadership, says German foreign minister\n",
            "Update Date Published: 2023-06-26T09:44:46.601Z\n",
            "Update Author: Kathleen Magramo, Christian Edwards, Aditi Sangal, Mike Hayes, Maureen Chowdhury and Amir Vera, CNN\n",
            "\n",
            "Update Headline: Prigozhin remains under investigation for inciting armed rebellion, says source at Russia’s Prosecutor General’s Office\n",
            "Update Date Published: 2023-06-26T09:21:04.177Z\n",
            "Update Author: Kathleen Magramo, Christian Edwards, Aditi Sangal, Mike Hayes, Maureen Chowdhury and Amir Vera, CNN\n",
            "\n",
            "Update Headline: Attempted insurrection demonstrates Putin made “big strategic mistake,” says NATO chief\n",
            "Update Date Published: 2023-06-26T09:09:55.747Z\n",
            "Update Author: Kathleen Magramo, Christian Edwards, Aditi Sangal, Mike Hayes, Maureen Chowdhury and Amir Vera, CNN\n",
            "\n",
            "Update Headline: Wagner insurrection shows military power in Russia is “cracking,” says EU’s foreign policy chief\n",
            "Update Date Published: 2023-06-26T08:49:13.877Z\n",
            "Update Author: Kathleen Magramo, Christian Edwards, Aditi Sangal, Mike Hayes, Maureen Chowdhury and Amir Vera, CNN\n",
            "\n",
            "Update Headline: Serbian president praises Putin after attempted insurrection\n",
            "Update Date Published: 2023-06-26T08:34:12.879Z\n",
            "Update Author: Kathleen Magramo, Christian Edwards, Aditi Sangal, Mike Hayes, Maureen Chowdhury and Amir Vera, CNN\n",
            "\n",
            "Update Headline: \"People don't want Prigozhin in Belarus,\" says adviser to exiled Belarusian opposition leader\n",
            "Update Date Published: 2023-06-26T08:15:53.304Z\n",
            "Update Author: Kathleen Magramo, Christian Edwards, Aditi Sangal, Mike Hayes, Maureen Chowdhury and Amir Vera, CNN\n",
            "\n",
            "Update Headline: 1 killed, pregnant woman among 7 injured in Kherson shelling, Ukrainian military says\n",
            "Update Date Published: 2023-06-26T07:47:17.024Z\n",
            "Update Author: Kathleen Magramo, Christian Edwards, Aditi Sangal, Mike Hayes, Maureen Chowdhury and Amir Vera, CNN\n",
            "\n",
            "Update Headline: Ukraine says it shot down 13 Russian missiles and drones overnight\n",
            "Update Date Published: 2023-06-26T07:09:38.517Z\n",
            "Update Author: Kathleen Magramo, Christian Edwards, Aditi Sangal, Mike Hayes, Maureen Chowdhury and Amir Vera, CNN\n",
            "\n",
            "Update Headline: Moscow ends security restrictions, mayor says\n",
            "Update Date Published: 2023-06-26T07:03:29.374Z\n",
            "Update Author: Kathleen Magramo, Christian Edwards, Aditi Sangal, Mike Hayes, Maureen Chowdhury and Amir Vera, CNN\n",
            "\n",
            "Update Headline: Analysis: Western allies must reexamine balancing act to save Ukraine after Putin's humiliation\n",
            "Update Date Published: 2023-06-26T06:16:46.719Z\n",
            "Update Author: Kathleen Magramo, Christian Edwards, Aditi Sangal, Mike Hayes, Maureen Chowdhury and Amir Vera, CNN\n",
            "\n",
            "Update Headline: \"Who's to say what happens next weekend?\" Analyst says mutiny raises risk of Russian factional conflict\n",
            "Update Date Published: 2023-06-26T05:57:57.419Z\n",
            "Update Author: Kathleen Magramo, Christian Edwards, Aditi Sangal, Mike Hayes, Maureen Chowdhury and Amir Vera, CNN\n",
            "\n",
            "Update Headline: Russia says defense minister visited troops involved in Ukraine conflict\n",
            "Update Date Published: 2023-06-26T05:39:54.269Z\n",
            "Update Author: Kathleen Magramo, Christian Edwards, Aditi Sangal, Mike Hayes, Maureen Chowdhury and Amir Vera, CNN\n",
            "\n",
            "Update Headline: Oil price gains evaporate after short-lived Wagner insurrection\n",
            "Update Date Published: 2023-06-26T05:10:07.572Z\n",
            "Update Author: Kathleen Magramo, Christian Edwards, Aditi Sangal, Mike Hayes, Maureen Chowdhury and Amir Vera, CNN\n",
            "\n",
            "Update Headline: Analysis: Belarus leader's purported mediation stretches credibility to the limit\n",
            "Update Date Published: 2023-06-26T04:55:04.504Z\n",
            "Update Author: Kathleen Magramo, Christian Edwards, Aditi Sangal, Mike Hayes, Maureen Chowdhury and Amir Vera, CNN\n",
            "\n",
            "Update Headline: Australian High Court rules against Russia's legal challenge to keep embassy site\n",
            "Update Date Published: 2023-06-26T04:18:38.128Z\n",
            "Update Author: Kathleen Magramo, Christian Edwards, Aditi Sangal, Mike Hayes, Maureen Chowdhury and Amir Vera, CNN\n",
            "\n",
            "Update Headline: Prigozhin's status is uncertain as Russia aims to regulate his Wagner Group. Here's the latest\n",
            "Update Date Published: 2023-06-26T04:02:06.589Z\n",
            "Update Author: Kathleen Magramo, Christian Edwards, Aditi Sangal, Mike Hayes, Maureen Chowdhury and Amir Vera, CNN\n",
            "\n",
            "Update Headline: Beijing throws support behind \"strategic partner\" Moscow after Wagner insurrection\n",
            "Update Date Published: 2023-06-26T02:31:43.458Z\n",
            "Update Author: Kathleen Magramo, Christian Edwards, Aditi Sangal, Mike Hayes, Maureen Chowdhury and Amir Vera, CNN\n",
            "\n",
            "Update Headline: Zelensky discusses rebellion in Russia with world leaders\n",
            "Update Date Published: 2023-06-26T01:42:25.681Z\n",
            "Update Author: Kathleen Magramo, Christian Edwards, Aditi Sangal, Mike Hayes, Maureen Chowdhury and Amir Vera, CNN\n",
            "\n",
            "Update Headline: Video shows crash site of Russian military plane reportedly shot down by Wagner forces\n",
            "Update Date Published: 2023-06-26T01:32:53.015Z\n",
            "Update Author: Kathleen Magramo, Christian Edwards, Aditi Sangal, Mike Hayes, Maureen Chowdhury and Amir Vera, CNN\n",
            "\n",
            "Update Headline: Ukraine claims gains around Bakhmut, says nearly 200 Russian troops killed within the past day\n",
            "Update Date Published: 2023-06-26T01:20:51.912Z\n",
            "Update Author: Kathleen Magramo, Christian Edwards, Aditi Sangal, Mike Hayes, Maureen Chowdhury and Amir Vera, CNN\n",
            "\n",
            "Update Headline: Analysis: The bizarre and chaotic 36 hours that showed Putin at his weakest in 23 years\n",
            "Update Date Published: 2023-06-26T00:50:30.132Z\n",
            "Update Author: Kathleen Magramo, Christian Edwards, Aditi Sangal, Mike Hayes, Maureen Chowdhury and Amir Vera, CNN\n"
          ]
        }
      ]
    },
    {
      "cell_type": "code",
      "source": [
        "# Count the number of live blog updates\n",
        "num_updates = len(live_blog_updates)\n",
        "print(\"\\nNumber of Live Blog Updates:\", num_updates)"
      ],
      "metadata": {
        "colab": {
          "base_uri": "https://localhost:8080/"
        },
        "id": "IQSwXTblHsoc",
        "outputId": "eb5a5f1c-dab0-4465-e61a-a5de1d572a96"
      },
      "execution_count": 42,
      "outputs": [
        {
          "output_type": "stream",
          "name": "stdout",
          "text": [
            "\n",
            "Number of Live Blog Updates: 66\n"
          ]
        }
      ]
    },
    {
      "cell_type": "code",
      "source": [
        "'''\n",
        "This part of the code is focused on extracting and analyzing unique author names from both the main article\n",
        "and its associated live blog updates.\n",
        "\n",
        "authors = set(): This initializes an empty set called authors.\n",
        "A set is a data structure in Python that stores unique elements, meaning each element can only appear once in the set.\n",
        "\n",
        "authors.add(main_author): This adds the name of the author of the main article to the authors set.\n",
        "This ensures that if the main article author is also one of the authors of the live blog updates,\n",
        "they won't be duplicated in the set.\n",
        "\n",
        "for update in live_blog_updates:: This initiates a loop that iterates through each live blog update\n",
        "in the live_blog_updates list.\n",
        "\n",
        "authors.add(update['author']['name']): Inside the loop, this line adds the name of the author\n",
        "of the current live blog update to the authors set. This is done for every update in the list.\n",
        "\n",
        "print(\"\\nUnique Authors:\", authors): After the loop finishes, this line prints out the set of unique author names.\n",
        "Since a set only stores unique values, you will see a list of distinct\n",
        "author names from both the main article and its updates.\n",
        "'''\n",
        "# Analyze author names\n",
        "authors = set()\n",
        "authors.add(main_author)\n",
        "for update in live_blog_updates:\n",
        "    authors.add(update['author']['name'])\n",
        "print(\"\\nUnique Authors:\", authors)"
      ],
      "metadata": {
        "colab": {
          "base_uri": "https://localhost:8080/"
        },
        "id": "EhR4KQE1HuHo",
        "outputId": "079d7562-abbd-4c62-f422-ae6dcf1dcc93"
      },
      "execution_count": 53,
      "outputs": [
        {
          "output_type": "stream",
          "name": "stdout",
          "text": [
            "\n",
            "Unique Authors: {'Kathleen Magramo, Christian Edwards, Aditi Sangal, Mike Hayes, Maureen Chowdhury and Amir Vera, CNN'}\n"
          ]
        }
      ]
    },
    {
      "cell_type": "code",
      "source": [
        "# Word Frequency Analysis: Analyze the frequency of words in the article bodies:\n",
        "\n",
        "'''\n",
        "1. We first combine all the text content from various fields\n",
        "in the JSON data into a single string called all_text.\n",
        "\n",
        "2. We use regular expressions (re.findall(r'\\w+', all_text.lower())) to split the text into words.\n",
        "This also converts the text to lowercase to ensure case-insensitive word counting.\n",
        "\n",
        "3. We create a Counter object called word_counter,\n",
        "which automatically counts the frequency of each word.\n",
        "\n",
        "4. Finally, we print the top 10 most common words\n",
        "and their frequencies using the most_common() method of the Counter.\n",
        "'''\n",
        "from collections import Counter\n",
        "import re\n",
        "\n",
        "# Combine all text content into a single string\n",
        "# Not all updates have headlines or article bodies.\n",
        "# To avoid the error, you should check if those fields exist before concatenating them.\n",
        "all_text = \"\"\n",
        "all_text += main_article['headline'] + \" \"\n",
        "all_text += main_article['description'] + \" \"\n",
        "for update in live_blog_updates:\n",
        "    if 'headline' in update and update['headline']:\n",
        "        all_text += update['headline'] + \" \"\n",
        "    if 'articleBody' in update and update['articleBody']:\n",
        "        all_text += update['articleBody'] + \" \"\n",
        "\n",
        "# Remove special characters and split the text into words\n",
        "words = re.findall(r'\\w+', all_text.lower())\n",
        "\n",
        "# Create a word frequency counter\n",
        "word_counter = Counter(words)\n",
        "\n",
        "# Print the top 10 most common words and their frequencies\n",
        "print(\"Top 10 most common words:\")\n",
        "for word, count in word_counter.most_common(20):\n",
        "    print(f\"{word}: {count}\")"
      ],
      "metadata": {
        "id": "tiwWW4TmNbQt",
        "colab": {
          "base_uri": "https://localhost:8080/"
        },
        "outputId": "337b18a7-bdee-4366-a1c0-a78c232d28b1"
      },
      "execution_count": 52,
      "outputs": [
        {
          "output_type": "stream",
          "name": "stdout",
          "text": [
            "Top 10 most common words:\n",
            "the: 889\n",
            "to: 432\n",
            "in: 335\n",
            "of: 313\n",
            "and: 299\n",
            "a: 289\n",
            "s: 234\n",
            "that: 198\n",
            "on: 189\n",
            "said: 180\n",
            "russia: 173\n",
            "russian: 154\n",
            "prigozhin: 132\n",
            "wagner: 130\n",
            "with: 124\n",
            "was: 118\n",
            "ukraine: 102\n",
            "for: 100\n",
            "putin: 97\n",
            "president: 93\n"
          ]
        }
      ]
    },
    {
      "cell_type": "code",
      "source": [
        "# Print the summary of the main article\n",
        "print(\"Summary of the Main Article:\")\n",
        "print(main_article['description'])"
      ],
      "metadata": {
        "colab": {
          "base_uri": "https://localhost:8080/"
        },
        "id": "aDOYtyg1W9Xl",
        "outputId": "55684f43-1089-4310-a3da-e04064d2f953"
      },
      "execution_count": 45,
      "outputs": [
        {
          "output_type": "stream",
          "name": "stdout",
          "text": [
            "Summary of the Main Article:\n",
            "Russian President Vladimir Putin said Monday night that \"the armed rebellion would have been suppressed anyway,\" referring to the insurrection launched by the Wagner Group over the weekend.\n"
          ]
        }
      ]
    },
    {
      "cell_type": "markdown",
      "source": [
        "---"
      ],
      "metadata": {
        "id": "r2G_bt75YAha"
      }
    },
    {
      "cell_type": "markdown",
      "source": [
        "To perform **Sentiment Analysis** on the text content of the articles, you can use a **Natural Language Processing (NLP)** library like TextBlob.  \n",
        "**TextBlob** *italicized text* is a simple library that provides easy-to-use methods for various NLP tasks, including sentiment analysis."
      ],
      "metadata": {
        "id": "wPgPGkUHYEpa"
      }
    },
    {
      "cell_type": "code",
      "source": [
        "from textblob import TextBlob"
      ],
      "metadata": {
        "id": "VaOTMjvQW9bs"
      },
      "execution_count": 46,
      "outputs": []
    },
    {
      "cell_type": "code",
      "source": [
        "'''\n",
        " Not all updates have headlines or article bodies.\n",
        " To avoid the error, you should check if those fields exist before concatenating them.\n",
        " '''\n",
        "# Text data for sentiment analysis\n",
        "text_data = main_article['description'] + \" \"\n",
        "if 'headline' in update and update['headline']:\n",
        "        all_text += update['headline'] + \" \"\n",
        "if 'articleBody' in update and update['articleBody']:\n",
        "        all_text += update['articleBody'] + \" \""
      ],
      "metadata": {
        "id": "TzuYQFxgW9oQ"
      },
      "execution_count": 51,
      "outputs": []
    },
    {
      "cell_type": "code",
      "source": [
        "# Perform sentiment analysis\n",
        "blob = TextBlob(text_data)\n",
        "\n",
        "# Calculate polarity and subjectivity\n",
        "polarity = blob.sentiment.polarity\n",
        "subjectivity = blob.sentiment.subjectivity"
      ],
      "metadata": {
        "id": "cNaleNFQYmmH"
      },
      "execution_count": 48,
      "outputs": []
    },
    {
      "cell_type": "code",
      "source": [
        "# Print sentiment analysis results\n",
        "print(\"Sentiment Polarity:\", polarity)\n",
        "print(\"Sentiment Subjectivity:\", subjectivity)"
      ],
      "metadata": {
        "colab": {
          "base_uri": "https://localhost:8080/"
        },
        "id": "U342b1vvYmqe",
        "outputId": "d0c1d488-b481-4a46-ef7b-b2f3e3172eb5"
      },
      "execution_count": 49,
      "outputs": [
        {
          "output_type": "stream",
          "name": "stdout",
          "text": [
            "Sentiment Polarity: 0.0\n",
            "Sentiment Subjectivity: 0.0\n"
          ]
        }
      ]
    },
    {
      "cell_type": "code",
      "source": [
        "# Determine sentiment label\n",
        "if polarity > 0:\n",
        "    sentiment_label = \"Positive\"\n",
        "elif polarity < 0:\n",
        "    sentiment_label = \"Negative\"\n",
        "else:\n",
        "    sentiment_label = \"Neutral\"\n",
        "\n",
        "print(\"Sentiment Label:\", sentiment_label)"
      ],
      "metadata": {
        "colab": {
          "base_uri": "https://localhost:8080/"
        },
        "id": "Qq91Cz1MYmwj",
        "outputId": "cf0b139e-5da1-4de3-c087-33b0ff9bf95e"
      },
      "execution_count": 50,
      "outputs": [
        {
          "output_type": "stream",
          "name": "stdout",
          "text": [
            "Sentiment Label: Neutral\n"
          ]
        }
      ]
    },
    {
      "cell_type": "code",
      "source": [],
      "metadata": {
        "id": "SWylLanSMQN_"
      },
      "execution_count": null,
      "outputs": []
    },
    {
      "cell_type": "code",
      "source": [],
      "metadata": {
        "id": "pn5iMCZVMQWj"
      },
      "execution_count": null,
      "outputs": []
    }
  ]
}